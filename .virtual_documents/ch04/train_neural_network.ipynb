import numpy as np











def mean_squared_error(y, y_hat):
    return 0.5 * (np.sum((y_hat - y)**2))


t = np.array([0,0,1,0,0,0,0,0,0,0])
y = np.array([.1,.05,.6,.0,.05,.1,.0,.1,.0,.0])

print(mean_squared_error(np.array(y), np.array(t)))

y1 = np.array([.1,.05,.1,.0,.05,.1,.0,.6,.0,.0])
print(mean_squared_error(np.array(y1), np.array(t)))





def cross_entropy_error(y, y_hat):
    delta = 1e-7
    return -1 * np.sum(y_hat * np.log(y+delta))


print(cross_entropy_error(y, t))
print(cross_entropy_error(y1, t))


import sys, os
from mnist import load_mnist

(x_train, y_train), (x_test, y_test) = load_mnist(normalize=False, one_hot_label=True)

print(x_train.shape)
print(x_test.shape)



train_size = x_train.shape[0]
batch_size = 10
random_choice = np.random.choice(train_size, batch_size)

x_batch = x_train[random_choice]
y_batch = y_train[random_choice]





def numerical_diff(f, x):
    h = 10e-50
    return (f(x+h) - f(x))/h


def numerical_diff(f, x):
    h = 1e-4
    return (f(x+h)-f(x-h)) / (2*h)


def function_1(x):
    return 0.01*(x**2) + 0.1*x


import matplotlib.pyplot as plt

X = np.arange(0.0, 20.0, 0.1)
y = function_1(x)
plt.xlabel('x')
plt.ylabel('y')
plt.plot(x, y)
plt.show()



print(numerical_diff(function_1, 5))
print(0.02*5 + 0.1)


def diff_function_1(x):
    return 0.02*x + 0.1

plt.plot(X, diff_function_1(X))
plt.plot(X, y)
plt.show()


def tangent_line(f, x, X):
    d = numerical_diff(f, x)
    y = f(x) - d*x
    return X*d + y


tX = tangent_line(function_1, 5, X)
plt.plot(x, tX)
plt.plot(x, y)
plt.show()





def function_2(X):
    return X[0]**2 + X[1]**2


X = np.array([3.0, 4.0])
print(numerical_diff(function_2, X))


def function_tmp1(x0):
    return x0*x0 + 4**2

print(numerical_diff(function_tmp1, 3))

def function_tmp2(x1):
    return 3**2 + x1**2

print(numerical_diff(function_tmp2, 4))


def numerical_gradient(f, X):
    h = 1e-4
    grad = np.zeros_like(X)
    
    for idx in range(X.size):
        orig_val = X[idx]
        
        X[idx] = X[idx] + h
        fxh1 = f(X)
        
        X[idx] = orig_val - h
        fxh2 = f(X)
        
        grad[idx] = (fxh1 - fxh2) / (2*h)
        X[idx] = orig_val
        
    return grad

print(numerical_gradient(function_2, np.array([3, 4]))) # --> ????
print(numerical_gradient(function_2, np.array([3.0, 4.0])))





def gradient_descent(lr, step_num, f, init_X):
    X = init_X
    
    for i in range(step_num):
        grad = numerical_gradient(f, X)
        X -= lr*grad
        
    return X


init_X = np.array([-3.0, 4.0])

print(gradient_descent(lr=0.1, step_num=100, f=function_2, init_X=init_X))








import sys, os
sys.path.append(os.pardir)
import numpy as np
from common.functions import softmax, cross_entropy_error
from common.gradient import numerical_gradient


# sigmoid, softmax -> activation functon, cross_entropy -> loss function

class simpleNet:
    def __init__(self):
        self.W = np.random.randn(2, 3) # 정규분포로 초기화

    def predict(self, x):
        return np.dot(x, self.W)

    def loss(self, x, t):
        z = self.predict(x)
        pred = softmax(z)
        return cross_entropy_error(pred, t)
    


net = simpleNet()
x = np.array([0.6, 0.9])
pred = net.predict(x)
t = np.array([0, 0, 1])
loss = net.loss(x, t)
loss



dW = numerical_gradient(net.loss(x, t), net.W)
dW



