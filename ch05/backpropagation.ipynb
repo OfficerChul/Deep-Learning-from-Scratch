{
 "cells": [
  {
   "cell_type": "markdown",
   "id": "8557488e-d06e-4bc7-866d-f602ba004ca3",
   "metadata": {},
   "source": [
    "# backpropagation"
   ]
  },
  {
   "cell_type": "markdown",
   "id": "984efcc4-2577-4707-9903-a5a4a3928dd7",
   "metadata": {},
   "source": [
    "## MulLayer"
   ]
  },
  {
   "cell_type": "code",
   "execution_count": 1,
   "id": "24c0dc92-cfcb-467b-a218-7ab09863f065",
   "metadata": {},
   "outputs": [],
   "source": [
    "class MulLayer:\n",
    "    def __init__(self):\n",
    "        self.x = None\n",
    "        self.y = None\n",
    "        \n",
    "    def forward(self, x, y):\n",
    "        self.x = x\n",
    "        self.y = y\n",
    "        out = x*y\n",
    "        \n",
    "        return out\n",
    "    \n",
    "    def backward(self, dout):\n",
    "        dx = dout * self.y\n",
    "        dy = dout * self.x\n",
    "        \n",
    "        return dx, dy"
   ]
  },
  {
   "cell_type": "markdown",
   "id": "62c408ab-a498-4d08-a046-4fac33ae05b9",
   "metadata": {},
   "source": [
    "## Buy Apple"
   ]
  },
  {
   "cell_type": "code",
   "execution_count": 3,
   "id": "52c4edde-bc22-491b-8262-5855af648a15",
   "metadata": {},
   "outputs": [
    {
     "name": "stdout",
     "output_type": "stream",
     "text": [
      "200\n",
      "220.00000000000003\n"
     ]
    }
   ],
   "source": [
    "apple = 100\n",
    "apple_num = 2\n",
    "tax = 1.1\n",
    "\n",
    "# Layers\n",
    "mul_apple_layer = MulLayer()\n",
    "mul_tax_layer = MulLayer()\n",
    "\n",
    "# Forward\n",
    "apple_price = mul_apple_layer.forward(apple, apple_num)\n",
    "price = mul_tax_layer.forward(apple_price, tax)\n",
    "\n",
    "print(apple_price)\n",
    "print(price)"
   ]
  },
  {
   "cell_type": "code",
   "execution_count": 5,
   "id": "37faaeae-79bd-4aeb-aae8-f6462a195a2c",
   "metadata": {},
   "outputs": [
    {
     "name": "stdout",
     "output_type": "stream",
     "text": [
      "2.2 110.00000000000001 200\n"
     ]
    }
   ],
   "source": [
    "dprice = 1\n",
    "dapple_price, dtax = mul_tax_layer.backward(dprice)\n",
    "dapple, dapple_num = mul_apple_layer.backward(dapple_price)\n",
    "\n",
    "print(dapple, dapple_num, dtax)"
   ]
  },
  {
   "cell_type": "markdown",
   "id": "89194130-074b-4029-86e0-b18c057bd420",
   "metadata": {},
   "source": [
    "## AddLayer"
   ]
  },
  {
   "cell_type": "code",
   "execution_count": 9,
   "id": "500ca002-176b-4194-9e82-bace774fcfc1",
   "metadata": {},
   "outputs": [],
   "source": [
    "class AddLayer:\n",
    "    def __init__(self):\n",
    "        pass\n",
    "\n",
    "    def forward(self, x, y):\n",
    "        out = x + y\n",
    "        return out\n",
    "\n",
    "    def backward(self, dout):\n",
    "        dx = dout * 1\n",
    "        dy = dout * 1\n",
    "        return dx, dy"
   ]
  },
  {
   "cell_type": "markdown",
   "id": "8b5e6728-fac1-4f62-8abd-7fd6289df186",
   "metadata": {},
   "source": [
    "## Buy Apple Orange"
   ]
  },
  {
   "cell_type": "code",
   "execution_count": 12,
   "id": "161b2258-fa14-479f-8ab2-840d863ace65",
   "metadata": {},
   "outputs": [
    {
     "name": "stdout",
     "output_type": "stream",
     "text": [
      "715.0000000000001\n",
      "110.00000000000001 2.2 3.3000000000000003 165.0 650\n"
     ]
    }
   ],
   "source": [
    "apple_num = 2\n",
    "apple = 100\n",
    "orange = 150\n",
    "orange_num = 3\n",
    "tax = 1.1\n",
    "\n",
    "# Layers\n",
    "mul_apple_layer = MulLayer()\n",
    "mul_orange_layer = MulLayer()\n",
    "mul_tax_layer = MulLayer()\n",
    "add_fruit_layer = AddLayer()\n",
    "\n",
    "# Forward\n",
    "apple_price = mul_apple_layer.forward(apple_num, apple)\n",
    "orange_price = mul_orange_layer.forward(orange_num, orange)\n",
    "fruit_price = mul_fruit_layer.forward(apple_price, orange_price)\n",
    "price = mul_tax_layer.forward(fruit_price, tax)\n",
    "\n",
    "dprice = 1\n",
    "# Backward\n",
    "dfruit_price, dtax = mul_tax_layer.backward(dprice)\n",
    "dapple_price, dorange_price = add_fruit_layer.backward(dfruit_price)\n",
    "dapple_num, dapple = mul_apple_layer.backward(dapple_price)\n",
    "dorange_num, dorange = mul_orange_layer.backward(dorange_price)\n",
    "\n",
    "print(price)\n",
    "print(dapple_num, dapple, dorange, dorange_num, dtax)\n",
    "xt"
   ]
  },
  {
   "cell_type": "code",
   "execution_count": null,
   "id": "5b0df9b5-4aa2-4d8f-9fb6-dab4b35bb61d",
   "metadata": {},
   "outputs": [],
   "source": []
  }
 ],
 "metadata": {
  "kernelspec": {
   "display_name": "Python 3 (ipykernel)",
   "language": "python",
   "name": "python3"
  },
  "language_info": {
   "codemirror_mode": {
    "name": "ipython",
    "version": 3
   },
   "file_extension": ".py",
   "mimetype": "text/x-python",
   "name": "python",
   "nbconvert_exporter": "python",
   "pygments_lexer": "ipython3",
   "version": "3.9.13"
  }
 },
 "nbformat": 4,
 "nbformat_minor": 5
}
