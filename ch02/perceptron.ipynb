{
 "cells": [
  {
   "cell_type": "code",
   "execution_count": 7,
   "id": "f8e4c06a-d3cf-4650-8f62-03bd9c94e3c0",
   "metadata": {
    "tags": []
   },
   "outputs": [],
   "source": [
    "import numpy as np\n",
    "def step_func(W, X, b):\n",
    "    return 1 if np.sum(W*X)+b > 0 else 0"
   ]
  },
  {
   "cell_type": "markdown",
   "id": "2f722ee3-bbff-45e0-bcdb-d6c03ab1db7b",
   "metadata": {},
   "source": [
    "# AND Gate"
   ]
  },
  {
   "cell_type": "markdown",
   "id": "46a51026-878b-4665-a11d-542663c3e366",
   "metadata": {},
   "source": [
    "## Without NumPy"
   ]
  },
  {
   "cell_type": "code",
   "execution_count": 2,
   "id": "07087699-6eb1-426c-8aac-35f81ff67a3b",
   "metadata": {},
   "outputs": [],
   "source": [
    "def AND(x1, x2):\n",
    "    w1, w2 = 0.5, 0.5, 0.7\n",
    "    pred = x1*w1 + x2*w2\n",
    "    if pred < theta:\n",
    "        return 0\n",
    "    else:\n",
    "        return 1"
   ]
  },
  {
   "cell_type": "markdown",
   "id": "0d786c2c-855d-4ef5-bf61-511b5ca8bbcb",
   "metadata": {},
   "source": [
    "## With NumPy"
   ]
  },
  {
   "cell_type": "code",
   "execution_count": 8,
   "id": "6ac64f1a-b3fe-4628-b91a-318088671e70",
   "metadata": {
    "tags": []
   },
   "outputs": [
    {
     "data": {
      "text/plain": [
       "0"
      ]
     },
     "execution_count": 8,
     "metadata": {},
     "output_type": "execute_result"
    }
   ],
   "source": [
    "import numpy as np\n",
    "\n",
    "def AND(x1, x2):\n",
    "    W = np.array([0.5, 0.5])\n",
    "    X = np.array([x1, x2])\n",
    "    b = -0.7\n",
    "    return step_func(W, X, b)\n",
    "AND(0, 1)"
   ]
  },
  {
   "cell_type": "markdown",
   "id": "d2489fb8-38aa-4d01-8717-87ea78e0800c",
   "metadata": {},
   "source": [
    "# NAND Gate"
   ]
  },
  {
   "cell_type": "code",
   "execution_count": 10,
   "id": "e484a2cf-2717-4631-93b4-6ed65a683178",
   "metadata": {
    "tags": []
   },
   "outputs": [
    {
     "data": {
      "text/plain": [
       "1"
      ]
     },
     "execution_count": 10,
     "metadata": {},
     "output_type": "execute_result"
    }
   ],
   "source": [
    "def NAND(x1, x2):\n",
    "    X = np.array([x1, x2])\n",
    "    W = np.array([-0.5, -0.5])\n",
    "    b = 0.7\n",
    "    return step_func(W, X, b)\n",
    "NAND(1, 0)"
   ]
  },
  {
   "cell_type": "markdown",
   "id": "c941055e-1733-4844-a151-f53d168dafd2",
   "metadata": {},
   "source": [
    "# OR Gate"
   ]
  },
  {
   "cell_type": "code",
   "execution_count": 12,
   "id": "cd9d02dd-ac47-44ad-b3de-b753ad28519b",
   "metadata": {
    "tags": []
   },
   "outputs": [
    {
     "name": "stdout",
     "output_type": "stream",
     "text": [
      "0 1 1\n"
     ]
    }
   ],
   "source": [
    "def OR(x1, x2):\n",
    "    X = np.array([x1, x2])\n",
    "    W = np.array([0.5, 0.5])\n",
    "    b = -0.2\n",
    "    return step_func(W, X, b)\n",
    "print(OR(0, 0), OR(0, 1), OR(1, 0))\n"
   ]
  },
  {
   "cell_type": "markdown",
   "id": "fa0efbcc-268d-4bfd-af11-a12d79bcbe8c",
   "metadata": {},
   "source": [
    "# XOR Gate"
   ]
  },
  {
   "cell_type": "code",
   "execution_count": 14,
   "id": "4714b717-3b92-4437-9a1b-93514ca0388e",
   "metadata": {
    "tags": []
   },
   "outputs": [
    {
     "name": "stdout",
     "output_type": "stream",
     "text": [
      "0 0 1 1\n"
     ]
    }
   ],
   "source": [
    "def XOR(x1, x2):\n",
    "    ret_nand = NAND(x1, x2)\n",
    "    ret_or = OR(x1, x2)\n",
    "    ret = AND(ret_nand, ret_or)\n",
    "    return ret\n",
    "print(XOR(0, 0), XOR(1, 1), XOR(1, 0), XOR(0, 1))"
   ]
  }
 ],
 "metadata": {
  "kernelspec": {
   "display_name": "Python 3 (ipykernel)",
   "language": "python",
   "name": "python3"
  },
  "language_info": {
   "codemirror_mode": {
    "name": "ipython",
    "version": 3
   },
   "file_extension": ".py",
   "mimetype": "text/x-python",
   "name": "python",
   "nbconvert_exporter": "python",
   "pygments_lexer": "ipython3",
   "version": "3.9.0"
  }
 },
 "nbformat": 4,
 "nbformat_minor": 5
}
